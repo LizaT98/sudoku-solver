{
 "cells": [
  {
   "cell_type": "code",
   "execution_count": 1,
   "id": "d6ba8fd1-6dfe-42f6-87f6-5dbe1c5d0f59",
   "metadata": {},
   "outputs": [
    {
     "name": "stdout",
     "output_type": "stream",
     "text": [
      "[[9 4 2 0 0 6 5 7 8]\n",
      " [5 0 0 8 9 0 1 3 4]\n",
      " [0 8 3 4 5 7 9 0 0]\n",
      " [2 0 4 3 8 9 6 5 7]\n",
      " [8 0 5 6 0 1 2 4 3]\n",
      " [3 7 6 2 4 0 8 1 9]\n",
      " [0 2 8 9 1 3 7 6 5]\n",
      " [6 5 9 7 0 4 3 8 0]\n",
      " [7 3 1 0 6 8 4 9 2]]\n"
     ]
    }
   ],
   "source": [
    "import numpy as np\n",
    "from dokusan import generators\n",
    "\n",
    "random_sudoku = generators.random_sudoku(avg_rank=10)\n",
    "sudoku_grid = np.array(random_sudoku)\n",
    "sudoku_grid = np.array(list(str(random_sudoku)))\n",
    "sudoku_grid = sudoku_grid.reshape(9,9).astype(int)\n",
    "# print(sudoku_grid)\n",
    "# Now sudoku_grid is a 9x9 NumPy array\n",
    "print(sudoku_grid)"
   ]
  },
  {
   "cell_type": "code",
   "execution_count": 2,
   "id": "06e44e23-5e5a-4cbb-b419-c9dcd0a54272",
   "metadata": {},
   "outputs": [
    {
     "name": "stdout",
     "output_type": "stream",
     "text": [
      "SUCCESS\n"
     ]
    }
   ],
   "source": [
    "\n",
    "#lets first check which numbers are missing at the given (row, col) coordinate\n",
    "# small grids to find out which numbers are potential candidates \n",
    "\n",
    "def is_candidate(sudoku_grid, row, col, value):\n",
    "    # assert sudoku_grid[row, col] == 0, \"cannot test non-empty\"\n",
    "    assert sudoku_grid.dtype == np.int64, sudoku_grid.dtype\n",
    "    assert type(value) == int, type(value)\n",
    "    \n",
    "    \n",
    "    # i want to check if a value is already present in the given row\n",
    "    if value in sudoku_grid[row,:]:\n",
    "        return False\n",
    "    # i want to check if a value is already present in the given column\n",
    "    if value in sudoku_grid[:,col]:\n",
    "        return False\n",
    "        \n",
    "        #let us define a subgrid\n",
    "                \n",
    "    row_start, col_start = row - row%3, col - col%3\n",
    "    subgrid = sudoku_grid[row_start:row_start+3,col_start:col_start+3]\n",
    "    if value in subgrid:\n",
    "        return False\n",
    "    \n",
    "    return True\n",
    "        \n",
    "is_candidate(sudoku_grid, 0, 0, 1)\n",
    "\n",
    "def assert_is_candidate(grid, row, col, value):\n",
    "    assert is_candidate(grid, row, col, value),\\\n",
    "        f\"value {value} at ({row}, {col}) is not a candidate\"\n",
    "    \n",
    "def assert_not_is_candidate(grid, row, col, value):\n",
    "    assert not is_candidate(grid, row, col, value),\\\n",
    "        f\"value {value} at ({row}, {col}) is a candidate\"\n",
    "\n",
    "# Test is_candidate\n",
    "def test_is_candidate():\n",
    "    test_grid = np.array([\n",
    "        ['5', '0', '4', '0', '8', '0', '1', '0', '0'],\n",
    "        ['0', '3', '1', '9', '0', '0', '8', '0', '7'],\n",
    "        ['9', '0', '0', '0', '0', '0', '0', '0', '0'],\n",
    "        ['0', '0', '3', '0', '0', '0', '0', '0', '0'],\n",
    "        ['0', '0', '5', '2', '0', '6', '0', '1', '0'],\n",
    "        ['6', '0', '0', '3', '5', '0', '0', '8', '2'],\n",
    "        ['0', '0', '0', '0', '6', '0', '0', '5', '1'],\n",
    "        ['4', '5', '0', '0', '0', '0', '6', '0', '0'],\n",
    "        ['0', '0', '0', '0', '0', '0', '0', '9', '8']]).astype(int)\n",
    "    assert_is_candidate(test_grid, 1,0,2)\n",
    "    assert_not_is_candidate(test_grid, 1,0,6)\n",
    "    assert_is_candidate(test_grid,3,1,4)\n",
    "    assert_not_is_candidate(test_grid,3,1,3)\n",
    "    print(\"SUCCESS\")\n",
    "\n",
    "test_is_candidate()\n",
    "        \n"
   ]
  },
  {
   "cell_type": "code",
   "execution_count": 3,
   "id": "eabd6f7a-2295-494d-99e0-c2544d85133c",
   "metadata": {},
   "outputs": [
    {
     "data": {
      "text/plain": [
       "(0, 3)"
      ]
     },
     "execution_count": 3,
     "metadata": {},
     "output_type": "execute_result"
    }
   ],
   "source": [
    "# find the next empty cell returning its coordinates \n",
    "# and if no empty cell, return 'None'\n",
    "# cell is not empty means the cell !=0\n",
    "# if all the cells are not empty, means that the sudoku grid is solved\n",
    "\n",
    "def next_empty(grid):\n",
    "    for row in range(9):\n",
    "        for col in range(9):\n",
    "            if grid[row, col] == 0:\n",
    "                return(row, col)\n",
    "\n",
    "    return None\n",
    "                \n",
    "next_empty(sudoku_grid)\n",
    "\n",
    "a = sudoku_grid\n",
    "next_empty(a)"
   ]
  },
  {
   "cell_type": "code",
   "execution_count": 4,
   "id": "b1a2b020-4b03-45de-8b7a-eba8f87d684c",
   "metadata": {},
   "outputs": [
    {
     "data": {
      "text/plain": [
       "array([[9, 4, 2, 1, 3, 6, 5, 7, 8],\n",
       "       [5, 6, 7, 8, 9, 2, 1, 3, 4],\n",
       "       [1, 8, 3, 4, 5, 7, 9, 2, 6],\n",
       "       [2, 1, 4, 3, 8, 9, 6, 5, 7],\n",
       "       [8, 9, 5, 6, 7, 1, 2, 4, 3],\n",
       "       [3, 7, 6, 2, 4, 5, 8, 1, 9],\n",
       "       [4, 2, 8, 9, 1, 3, 7, 6, 5],\n",
       "       [6, 5, 9, 7, 2, 4, 3, 8, 1],\n",
       "       [7, 3, 1, 5, 6, 8, 4, 9, 2]])"
      ]
     },
     "execution_count": 4,
     "metadata": {},
     "output_type": "execute_result"
    }
   ],
   "source": [
    "def solve_sudoku(grid):\n",
    "    assert type(grid) is np.ndarray, 'is not ndarray'\n",
    "    empty_cell = next_empty(grid)\n",
    "    \n",
    "    # there are no more empty cells in the grid, return the solved grid\n",
    "    if empty_cell is None:\n",
    "        return grid\n",
    "    assert empty_cell is not None, 'we should have returned a solved'\n",
    "    assert type(empty_cell) is tuple, 'is not a tuple'\n",
    "    row, col = empty_cell\n",
    "\n",
    "    for value in range(1,10):\n",
    "        if is_candidate(grid, row, col, value):\n",
    "            grid_copy = np.copy(grid)\n",
    "            grid_copy[row][col] = value\n",
    "            # print(f\"candidate for {row},{col},{value}\")\n",
    "\n",
    "            maybe_solved = solve_sudoku(grid_copy)\n",
    "            if maybe_solved is None:\n",
    "                continue\n",
    "            assert type(maybe_solved) is np.ndarray,\\\n",
    "            f'expected: np.ndarray, found: {type(maybe_solved)}'\n",
    "            return maybe_solved\n",
    "    \n",
    "    return None\n",
    "        \n",
    "solve_sudoku(sudoku_grid)"
   ]
  },
  {
   "cell_type": "code",
   "execution_count": null,
   "id": "923254a2",
   "metadata": {},
   "outputs": [],
   "source": []
  }
 ],
 "metadata": {
  "kernelspec": {
   "display_name": "Python 3 (ipykernel)",
   "language": "python",
   "name": "python3"
  },
  "language_info": {
   "codemirror_mode": {
    "name": "ipython",
    "version": 3
   },
   "file_extension": ".py",
   "mimetype": "text/x-python",
   "name": "python",
   "nbconvert_exporter": "python",
   "pygments_lexer": "ipython3",
   "version": "3.9.12"
  }
 },
 "nbformat": 4,
 "nbformat_minor": 5
}
